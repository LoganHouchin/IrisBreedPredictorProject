{
  "nbformat": 4,
  "nbformat_minor": 0,
  "metadata": {
    "colab": {
      "name": "Iris_Breed_Predictor.ipynb",
      "provenance": [],
      "collapsed_sections": [],
      "toc_visible": true
    },
    "kernelspec": {
      "name": "python3",
      "display_name": "Python 3"
    }
  },
  "cells": [
    {
      "cell_type": "markdown",
      "metadata": {
        "id": "5nc7bFMd_dhX"
      },
      "source": [
        "#**Iris Breed Predictor**"
      ]
    },
    {
      "cell_type": "markdown",
      "metadata": {
        "id": "wiReYOHn__zT"
      },
      "source": [
        "## **Goal**\n",
        "\n",
        "The Goal of this application is to predict the breed of the iris flower based on features such as sepal length, sepal width, pedal length, and petal width. \n",
        "There are three diffent breeds of iris which we will use in this application: Sertosa, Verticolor, and Virginica.\n",
        "\n",
        "\n",
        "The dataset I am using for this application is the iris dataset. This dataset is included in sklearn.datasets but for convince I also provided a link to the dataset (https://www.kaggle.com/uciml/iris) so it is easier to download if you do not have access to sklearn."
      ]
    },
    {
      "cell_type": "markdown",
      "metadata": {
        "id": "yO66VUVyCz2C"
      },
      "source": [
        "## **Getting Dataset**"
      ]
    },
    {
      "cell_type": "markdown",
      "metadata": {
        "id": "tMyLaihNGIWh"
      },
      "source": [
        "The first step is to import all the built in functions that you need.\n",
        "\n"
      ]
    },
    {
      "cell_type": "code",
      "metadata": {
        "id": "d4FvImmoC6Ee"
      },
      "source": [
        "import numpy as np \n",
        "import matplotlib.pyplot as plt \n",
        "from sklearn import datasets"
      ],
      "execution_count": 1,
      "outputs": []
    },
    {
      "cell_type": "markdown",
      "metadata": {
        "id": "TLitnqqYaVeK"
      },
      "source": [
        "My next step is downloading the iris dataset from sklearn's datasets."
      ]
    },
    {
      "cell_type": "code",
      "metadata": {
        "id": "KEf9_Cm_aWPx"
      },
      "source": [
        "I = datasets.load_iris()"
      ],
      "execution_count": 2,
      "outputs": []
    },
    {
      "cell_type": "markdown",
      "metadata": {
        "id": "kMXkGy6YfN60"
      },
      "source": [
        "Once I've downloaded the data I like to see what it looks like so I just printed it."
      ]
    },
    {
      "cell_type": "code",
      "metadata": {
        "colab": {
          "base_uri": "https://localhost:8080/"
        },
        "id": "FSGckn4_fOUD",
        "outputId": "eba5fdfd-5bd7-44f5-8d87-a1a11ffd23c7"
      },
      "source": [
        "print(I.data)"
      ],
      "execution_count": 3,
      "outputs": [
        {
          "output_type": "stream",
          "text": [
            "[[5.1 3.5 1.4 0.2]\n",
            " [4.9 3.  1.4 0.2]\n",
            " [4.7 3.2 1.3 0.2]\n",
            " [4.6 3.1 1.5 0.2]\n",
            " [5.  3.6 1.4 0.2]\n",
            " [5.4 3.9 1.7 0.4]\n",
            " [4.6 3.4 1.4 0.3]\n",
            " [5.  3.4 1.5 0.2]\n",
            " [4.4 2.9 1.4 0.2]\n",
            " [4.9 3.1 1.5 0.1]\n",
            " [5.4 3.7 1.5 0.2]\n",
            " [4.8 3.4 1.6 0.2]\n",
            " [4.8 3.  1.4 0.1]\n",
            " [4.3 3.  1.1 0.1]\n",
            " [5.8 4.  1.2 0.2]\n",
            " [5.7 4.4 1.5 0.4]\n",
            " [5.4 3.9 1.3 0.4]\n",
            " [5.1 3.5 1.4 0.3]\n",
            " [5.7 3.8 1.7 0.3]\n",
            " [5.1 3.8 1.5 0.3]\n",
            " [5.4 3.4 1.7 0.2]\n",
            " [5.1 3.7 1.5 0.4]\n",
            " [4.6 3.6 1.  0.2]\n",
            " [5.1 3.3 1.7 0.5]\n",
            " [4.8 3.4 1.9 0.2]\n",
            " [5.  3.  1.6 0.2]\n",
            " [5.  3.4 1.6 0.4]\n",
            " [5.2 3.5 1.5 0.2]\n",
            " [5.2 3.4 1.4 0.2]\n",
            " [4.7 3.2 1.6 0.2]\n",
            " [4.8 3.1 1.6 0.2]\n",
            " [5.4 3.4 1.5 0.4]\n",
            " [5.2 4.1 1.5 0.1]\n",
            " [5.5 4.2 1.4 0.2]\n",
            " [4.9 3.1 1.5 0.2]\n",
            " [5.  3.2 1.2 0.2]\n",
            " [5.5 3.5 1.3 0.2]\n",
            " [4.9 3.6 1.4 0.1]\n",
            " [4.4 3.  1.3 0.2]\n",
            " [5.1 3.4 1.5 0.2]\n",
            " [5.  3.5 1.3 0.3]\n",
            " [4.5 2.3 1.3 0.3]\n",
            " [4.4 3.2 1.3 0.2]\n",
            " [5.  3.5 1.6 0.6]\n",
            " [5.1 3.8 1.9 0.4]\n",
            " [4.8 3.  1.4 0.3]\n",
            " [5.1 3.8 1.6 0.2]\n",
            " [4.6 3.2 1.4 0.2]\n",
            " [5.3 3.7 1.5 0.2]\n",
            " [5.  3.3 1.4 0.2]\n",
            " [7.  3.2 4.7 1.4]\n",
            " [6.4 3.2 4.5 1.5]\n",
            " [6.9 3.1 4.9 1.5]\n",
            " [5.5 2.3 4.  1.3]\n",
            " [6.5 2.8 4.6 1.5]\n",
            " [5.7 2.8 4.5 1.3]\n",
            " [6.3 3.3 4.7 1.6]\n",
            " [4.9 2.4 3.3 1. ]\n",
            " [6.6 2.9 4.6 1.3]\n",
            " [5.2 2.7 3.9 1.4]\n",
            " [5.  2.  3.5 1. ]\n",
            " [5.9 3.  4.2 1.5]\n",
            " [6.  2.2 4.  1. ]\n",
            " [6.1 2.9 4.7 1.4]\n",
            " [5.6 2.9 3.6 1.3]\n",
            " [6.7 3.1 4.4 1.4]\n",
            " [5.6 3.  4.5 1.5]\n",
            " [5.8 2.7 4.1 1. ]\n",
            " [6.2 2.2 4.5 1.5]\n",
            " [5.6 2.5 3.9 1.1]\n",
            " [5.9 3.2 4.8 1.8]\n",
            " [6.1 2.8 4.  1.3]\n",
            " [6.3 2.5 4.9 1.5]\n",
            " [6.1 2.8 4.7 1.2]\n",
            " [6.4 2.9 4.3 1.3]\n",
            " [6.6 3.  4.4 1.4]\n",
            " [6.8 2.8 4.8 1.4]\n",
            " [6.7 3.  5.  1.7]\n",
            " [6.  2.9 4.5 1.5]\n",
            " [5.7 2.6 3.5 1. ]\n",
            " [5.5 2.4 3.8 1.1]\n",
            " [5.5 2.4 3.7 1. ]\n",
            " [5.8 2.7 3.9 1.2]\n",
            " [6.  2.7 5.1 1.6]\n",
            " [5.4 3.  4.5 1.5]\n",
            " [6.  3.4 4.5 1.6]\n",
            " [6.7 3.1 4.7 1.5]\n",
            " [6.3 2.3 4.4 1.3]\n",
            " [5.6 3.  4.1 1.3]\n",
            " [5.5 2.5 4.  1.3]\n",
            " [5.5 2.6 4.4 1.2]\n",
            " [6.1 3.  4.6 1.4]\n",
            " [5.8 2.6 4.  1.2]\n",
            " [5.  2.3 3.3 1. ]\n",
            " [5.6 2.7 4.2 1.3]\n",
            " [5.7 3.  4.2 1.2]\n",
            " [5.7 2.9 4.2 1.3]\n",
            " [6.2 2.9 4.3 1.3]\n",
            " [5.1 2.5 3.  1.1]\n",
            " [5.7 2.8 4.1 1.3]\n",
            " [6.3 3.3 6.  2.5]\n",
            " [5.8 2.7 5.1 1.9]\n",
            " [7.1 3.  5.9 2.1]\n",
            " [6.3 2.9 5.6 1.8]\n",
            " [6.5 3.  5.8 2.2]\n",
            " [7.6 3.  6.6 2.1]\n",
            " [4.9 2.5 4.5 1.7]\n",
            " [7.3 2.9 6.3 1.8]\n",
            " [6.7 2.5 5.8 1.8]\n",
            " [7.2 3.6 6.1 2.5]\n",
            " [6.5 3.2 5.1 2. ]\n",
            " [6.4 2.7 5.3 1.9]\n",
            " [6.8 3.  5.5 2.1]\n",
            " [5.7 2.5 5.  2. ]\n",
            " [5.8 2.8 5.1 2.4]\n",
            " [6.4 3.2 5.3 2.3]\n",
            " [6.5 3.  5.5 1.8]\n",
            " [7.7 3.8 6.7 2.2]\n",
            " [7.7 2.6 6.9 2.3]\n",
            " [6.  2.2 5.  1.5]\n",
            " [6.9 3.2 5.7 2.3]\n",
            " [5.6 2.8 4.9 2. ]\n",
            " [7.7 2.8 6.7 2. ]\n",
            " [6.3 2.7 4.9 1.8]\n",
            " [6.7 3.3 5.7 2.1]\n",
            " [7.2 3.2 6.  1.8]\n",
            " [6.2 2.8 4.8 1.8]\n",
            " [6.1 3.  4.9 1.8]\n",
            " [6.4 2.8 5.6 2.1]\n",
            " [7.2 3.  5.8 1.6]\n",
            " [7.4 2.8 6.1 1.9]\n",
            " [7.9 3.8 6.4 2. ]\n",
            " [6.4 2.8 5.6 2.2]\n",
            " [6.3 2.8 5.1 1.5]\n",
            " [6.1 2.6 5.6 1.4]\n",
            " [7.7 3.  6.1 2.3]\n",
            " [6.3 3.4 5.6 2.4]\n",
            " [6.4 3.1 5.5 1.8]\n",
            " [6.  3.  4.8 1.8]\n",
            " [6.9 3.1 5.4 2.1]\n",
            " [6.7 3.1 5.6 2.4]\n",
            " [6.9 3.1 5.1 2.3]\n",
            " [5.8 2.7 5.1 1.9]\n",
            " [6.8 3.2 5.9 2.3]\n",
            " [6.7 3.3 5.7 2.5]\n",
            " [6.7 3.  5.2 2.3]\n",
            " [6.3 2.5 5.  1.9]\n",
            " [6.5 3.  5.2 2. ]\n",
            " [6.2 3.4 5.4 2.3]\n",
            " [5.9 3.  5.1 1.8]]\n"
          ],
          "name": "stdout"
        }
      ]
    },
    {
      "cell_type": "markdown",
      "metadata": {
        "id": "DTV9ri1vabAV"
      },
      "source": [
        "After downloading the dataset I printed the features, Breeds, and how many lines are in the dataset."
      ]
    },
    {
      "cell_type": "code",
      "metadata": {
        "colab": {
          "base_uri": "https://localhost:8080/"
        },
        "id": "ILAiuu0gabac",
        "outputId": "5ba6d028-4215-4658-95dc-a1741d014000"
      },
      "source": [
        "#Print features \n",
        "print(\"Features:\", I.feature_names)\n",
        "\n",
        "#Print breeds \n",
        "print(\"Breeds:\", I.target_names)\n",
        "\n",
        "#Print number of lines in dataset\n",
        "line = len(I.data) \n",
        "print(\"# of lines:\", line)"
      ],
      "execution_count": 4,
      "outputs": [
        {
          "output_type": "stream",
          "text": [
            "Features: ['sepal length (cm)', 'sepal width (cm)', 'petal length (cm)', 'petal width (cm)']\n",
            "Breeds: ['setosa' 'versicolor' 'virginica']\n",
            "# of lines: 150\n"
          ],
          "name": "stdout"
        }
      ]
    },
    {
      "cell_type": "markdown",
      "metadata": {
        "id": "w-iIq2AEC6gP"
      },
      "source": [
        "## **Splitting Dataset**"
      ]
    },
    {
      "cell_type": "markdown",
      "metadata": {
        "id": "kPN0nPwWIkMC"
      },
      "source": [
        "Splitting the dataset is important because it will give us some data to train our model with and some data to test our model with.\n",
        "One of the rules of thumb for machine learning when it comes to splitting data is to do a 80/20 split. meaning 80% of your data will be training data and 20% of your data will be for testing.\n",
        "\n",
        "From the previous section, we know there are 150 lines of data in this dataset so this will give us 120 training lines and 30 lines to test with.\n",
        "\n"
      ]
    },
    {
      "cell_type": "markdown",
      "metadata": {
        "id": "8Qwd4WcxNC31"
      },
      "source": [
        "You can also see that we shuffle the data in the data set. I do this to make sure I dont train my model with just one or two breeds."
      ]
    },
    {
      "cell_type": "code",
      "metadata": {
        "colab": {
          "base_uri": "https://localhost:8080/"
        },
        "id": "W1MIXz_cC-MC",
        "outputId": "36367787-4892-4f84-b226-55b7d0208ee6"
      },
      "source": [
        "#Do the Shuffle! (Shuffle the dataset)\n",
        "data = np.zeros((line,4+1))\n",
        "for i in range(line):\n",
        "\tdata[i,0:4] = I.data[i]\n",
        "\tdata[i,4] = I.target[i]\n",
        "\n",
        "#Pick a random seed to shuffle with\n",
        "np.random.seed(0)  \n",
        "np.random.shuffle(data)\n",
        "\n",
        "print(\"Done Shuffling!\")"
      ],
      "execution_count": 5,
      "outputs": [
        {
          "output_type": "stream",
          "text": [
            "Done Shuffling!\n"
          ],
          "name": "stdout"
        }
      ]
    },
    {
      "cell_type": "markdown",
      "metadata": {
        "id": "c4ZAqS7YNHIT"
      },
      "source": [
        "Now lets split the data, The first line makes \"Test\" worth .2 or 20% of the dataset. The second line makes \"Train\" the remainder of the dataset (80%)"
      ]
    },
    {
      "cell_type": "code",
      "metadata": {
        "id": "2JCVa4jQNGga"
      },
      "source": [
        "Test = np.int(np.round(line* 0.2)) \n",
        "Train = line - Test                 "
      ],
      "execution_count": 6,
      "outputs": []
    },
    {
      "cell_type": "markdown",
      "metadata": {
        "id": "y6pjq7jsNNNW"
      },
      "source": [
        "Next, I slice the dataset into features which are the first 4 columns of each row and the breed which is the last column of each row.\n"
      ]
    },
    {
      "cell_type": "code",
      "metadata": {
        "id": "KkRU6mXwNNwE"
      },
      "source": [
        "Features = data[:,0:4]\n",
        "Breed = data[:,4]"
      ],
      "execution_count": 7,
      "outputs": []
    },
    {
      "cell_type": "markdown",
      "metadata": {
        "id": "LsqGgFVEa2H2"
      },
      "source": [
        "Lastly, I make two datasets as you can probably guess one is a training dataset and one is a training dataset. I did this by slicing my original dataset using the \"Test\" and \"Train\" values from the section above."
      ]
    },
    {
      "cell_type": "code",
      "metadata": {
        "colab": {
          "base_uri": "https://localhost:8080/"
        },
        "id": "cOfTpgW0a2on",
        "outputId": "2915f34a-2e84-4c25-b907-47790c90e48c"
      },
      "source": [
        "#Slice from 0-\"Train\"\n",
        "Features_Training = Features[0:Train,:]\n",
        "Breed_Training = Breed[0:Train]\n",
        "\n",
        "#Slice from \"Train\"-\"line\" \n",
        "Features_Testing = Features[Train:line,:]\n",
        "Breed_Testing = Breed[Train:line]\n",
        "\n",
        "print(\"Done Splitting the dataset!\")"
      ],
      "execution_count": 8,
      "outputs": [
        {
          "output_type": "stream",
          "text": [
            "Done Splitting the dataset!\n"
          ],
          "name": "stdout"
        }
      ]
    },
    {
      "cell_type": "markdown",
      "metadata": {
        "id": "KCrGbkIZC-di"
      },
      "source": [
        "## **Visualizing dataset**"
      ]
    },
    {
      "cell_type": "markdown",
      "metadata": {
        "id": "bqZqAGprRSRA"
      },
      "source": [
        "Visualizing the you data helps give you a better idea of what the data actually looks like. I also use the visualizations to help me decide how I should go about predicting the breed. So for example, after I looked at these visualizations I knew it would be more difficult to do clustering so I decided a decision tree would be easier better at implementing"
      ]
    },
    {
      "cell_type": "markdown",
      "metadata": {
        "id": "OTZVTvQZ-LzB"
      },
      "source": [
        "###**Scatter Plot**"
      ]
    },
    {
      "cell_type": "markdown",
      "metadata": {
        "id": "xTfyPNZ55nrU"
      },
      "source": [
        "First, I want to start off by making a scatter plot where the x-axis is the sepal length and the y-axis is the sepal width."
      ]
    },
    {
      "cell_type": "code",
      "metadata": {
        "id": "ImUlT-fMDjkY",
        "colab": {
          "base_uri": "https://localhost:8080/",
          "height": 299
        },
        "outputId": "4d16bda4-51ee-4156-a5e9-03d4ef94b40c"
      },
      "source": [
        "ind1 = 0 \n",
        "ind2 = 1 \n",
        "plt.figure(1)\n",
        "plt.plot(Features[:,ind1], Features[:,ind2], 'ko') \n",
        "plt.xlabel(\"Sepal Length(cm)\")\n",
        "plt.ylabel(\"Sepal Width(cm)\")"
      ],
      "execution_count": 9,
      "outputs": [
        {
          "output_type": "execute_result",
          "data": {
            "text/plain": [
              "Text(0, 0.5, 'Sepal Width(cm)')"
            ]
          },
          "metadata": {
            "tags": []
          },
          "execution_count": 9
        },
        {
          "output_type": "display_data",
          "data": {
            "image/png": "[encoded data removed]",
            "text/plain": [
              "<Figure size 432x288 with 1 Axes>"
            ]
          },
          "metadata": {
            "tags": [],
            "needs_background": "light"
          }
        }
      ]
    },
    {
      "cell_type": "markdown",
      "metadata": {
        "id": "7XgiGcat5-h8"
      },
      "source": [
        "Next, I did a scatter plot with my x-axis as the petal length and my y-axis as the petal width."
      ]
    },
    {
      "cell_type": "code",
      "metadata": {
        "colab": {
          "base_uri": "https://localhost:8080/",
          "height": 296
        },
        "id": "Ax5-8v9Z5_vP",
        "outputId": "9884e03d-4cce-47db-ac20-6d73a83331f9"
      },
      "source": [
        "ind1 = 2\n",
        "ind2 = 3 \n",
        "plt.figure(2)\n",
        "plt.plot(Features[:,ind1], Features[:,ind2], 'ko' ) \n",
        "plt.xlabel(\"Petal Length(cm)\")\n",
        "plt.ylabel(\"Petal Width(cm)\")"
      ],
      "execution_count": 10,
      "outputs": [
        {
          "output_type": "execute_result",
          "data": {
            "text/plain": [
              "Text(0, 0.5, 'Petal Width(cm)')"
            ]
          },
          "metadata": {
            "tags": []
          },
          "execution_count": 10
        },
        {
          "output_type": "display_data",
          "data": {
            "image/png": "[encoded data removed]",
            "text/plain": [
              "<Figure size 432x288 with 1 Axes>"
            ]
          },
          "metadata": {
            "tags": [],
            "needs_background": "light"
          }
        }
      ]
    },
    {
      "cell_type": "markdown",
      "metadata": {
        "id": "8VTCkuP06kLW"
      },
      "source": [
        "After visualizing the data you can see that clustering would not work well on determining what breed of iris we have. There is only one brred that you can make out from the others using the scatter plots and thats only becasuse the petal size is completly diffrent from the rest of the petal sizes."
      ]
    },
    {
      "cell_type": "markdown",
      "metadata": {
        "id": "9BgRwFOb-RrI"
      },
      "source": [
        "###**Histograms/Bar Graphs**"
      ]
    },
    {
      "cell_type": "markdown",
      "metadata": {
        "id": "vSkLOx508foe"
      },
      "source": [
        "Next lets plot some histograms or bar graphs of the diffrent features so we can see how many instances we have of the same value with in each feature."
      ]
    },
    {
      "cell_type": "code",
      "metadata": {
        "colab": {
          "base_uri": "https://localhost:8080/",
          "height": 296
        },
        "id": "QgDJJaWh8gAD",
        "outputId": "47935930-b043-4dd4-91f7-ae2cde1534eb"
      },
      "source": [
        "ind1 = 0 \n",
        "plt.hist(Features[:,ind1], 25, edgecolor=\"k\")\n",
        "plt.xlabel(\"Sepal Length(cm)\")\n",
        "plt.ylabel(\"# of Instances\")"
      ],
      "execution_count": 11,
      "outputs": [
        {
          "output_type": "execute_result",
          "data": {
            "text/plain": [
              "Text(0, 0.5, '# of Instances')"
            ]
          },
          "metadata": {
            "tags": []
          },
          "execution_count": 11
        },
        {
          "output_type": "display_data",
          "data": {
            "image/png": "[encoded data removed]",
            "text/plain": [
              "<Figure size 432x288 with 1 Axes>"
            ]
          },
          "metadata": {
            "tags": [],
            "needs_background": "light"
          }
        }
      ]
    },
    {
      "cell_type": "code",
      "metadata": {
        "colab": {
          "base_uri": "https://localhost:8080/",
          "height": 296
        },
        "id": "CYPJkuK89eyh",
        "outputId": "a259eb72-a55c-4119-a4bc-bddbd0da218c"
      },
      "source": [
        "ind1 = 1 \n",
        "plt.hist(Features[:,ind1], 25, edgecolor=\"k\")\n",
        "plt.xlabel(\"Sepal Width(cm)\")\n",
        "plt.ylabel(\"# of Instances\")"
      ],
      "execution_count": 12,
      "outputs": [
        {
          "output_type": "execute_result",
          "data": {
            "text/plain": [
              "Text(0, 0.5, '# of Instances')"
            ]
          },
          "metadata": {
            "tags": []
          },
          "execution_count": 12
        },
        {
          "output_type": "display_data",
          "data": {
            "image/png": "[encoded data removed]",
            "text/plain": [
              "<Figure size 432x288 with 1 Axes>"
            ]
          },
          "metadata": {
            "tags": [],
            "needs_background": "light"
          }
        }
      ]
    },
    {
      "cell_type": "code",
      "metadata": {
        "colab": {
          "base_uri": "https://localhost:8080/",
          "height": 299
        },
        "id": "bnydnSG09nf3",
        "outputId": "6d14ffc5-8b1f-4400-ceb9-6f481253517d"
      },
      "source": [
        "ind1 = 2 \n",
        "plt.hist(Features[:,ind1], 25, edgecolor=\"k\")\n",
        "plt.xlabel(\"Petal Length(cm)\")\n",
        "plt.ylabel(\"# of Instances\")"
      ],
      "execution_count": 13,
      "outputs": [
        {
          "output_type": "execute_result",
          "data": {
            "text/plain": [
              "Text(0, 0.5, '# of Instances')"
            ]
          },
          "metadata": {
            "tags": []
          },
          "execution_count": 13
        },
        {
          "output_type": "display_data",
          "data": {
            "image/png": "[encoded data removed]",
            "text/plain": [
              "<Figure size 432x288 with 1 Axes>"
            ]
          },
          "metadata": {
            "tags": [],
            "needs_background": "light"
          }
        }
      ]
    },
    {
      "cell_type": "code",
      "metadata": {
        "colab": {
          "base_uri": "https://localhost:8080/",
          "height": 297
        },
        "id": "lXOwG2Zi9ryM",
        "outputId": "347c6605-9e6c-40d3-c031-529e2b861168"
      },
      "source": [
        "ind1 = 3 \n",
        "plt.hist(Features[:,ind1], 25, edgecolor=\"k\")\n",
        "plt.xlabel(\"Petal Width(cm)\")\n",
        "plt.ylabel(\"# of Instances\")"
      ],
      "execution_count": 14,
      "outputs": [
        {
          "output_type": "execute_result",
          "data": {
            "text/plain": [
              "Text(0, 0.5, '# of Instances')"
            ]
          },
          "metadata": {
            "tags": []
          },
          "execution_count": 14
        },
        {
          "output_type": "display_data",
          "data": {
            "image/png": "[encoded data removed]",
            "text/plain": [
              "<Figure size 432x288 with 1 Axes>"
            ]
          },
          "metadata": {
            "tags": [],
            "needs_background": "light"
          }
        }
      ]
    },
    {
      "cell_type": "markdown",
      "metadata": {
        "id": "7ArzNLz0Dj0K"
      },
      "source": [
        "##**Decision Tree**"
      ]
    },
    {
      "cell_type": "markdown",
      "metadata": {
        "id": "7tbPhvcUEr4v"
      },
      "source": [
        "### **Train Decision Tree**"
      ]
    },
    {
      "cell_type": "markdown",
      "metadata": {
        "id": "PrQ841joTQSq"
      },
      "source": [
        "First step in training my decision tree is importing a function from sklearn.\n"
      ]
    },
    {
      "cell_type": "code",
      "metadata": {
        "id": "TeEoaFsuE8iM"
      },
      "source": [
        "from sklearn.tree import DecisionTreeClassifier "
      ],
      "execution_count": 15,
      "outputs": []
    },
    {
      "cell_type": "markdown",
      "metadata": {
        "id": "YTyUeSqzUC3r"
      },
      "source": [
        "Next, I decide what I want my max_depth and min_samples_leaf to be. \n",
        "\n",
        "max_depth is how many layers your tree will have\n",
        "\n",
        "min_samples_leaf is the minimum number of leafs you want on the tree.\n",
        "\n",
        "I just did random values for these to see how it would turn out."
      ]
    },
    {
      "cell_type": "code",
      "metadata": {
        "id": "TQZmJ0uvUDQ5"
      },
      "source": [
        " tree_model = DecisionTreeClassifier(max_depth = 3, min_samples_leaf=5)"
      ],
      "execution_count": 16,
      "outputs": []
    },
    {
      "cell_type": "markdown",
      "metadata": {
        "id": "eO6mjrWxUthv"
      },
      "source": [
        "Finally, all you need to do is fit your data to the decision tree."
      ]
    },
    {
      "cell_type": "code",
      "metadata": {
        "colab": {
          "base_uri": "https://localhost:8080/"
        },
        "id": "Fh3pCzz4Us01",
        "outputId": "dc839e6a-2a91-49e4-89fa-325069ffc1b6"
      },
      "source": [
        " tree_model.fit(Features_Training, Breed_Training)"
      ],
      "execution_count": 17,
      "outputs": [
        {
          "output_type": "execute_result",
          "data": {
            "text/plain": [
              "DecisionTreeClassifier(ccp_alpha=0.0, class_weight=None, criterion='gini',\n",
              "                       max_depth=3, max_features=None, max_leaf_nodes=None,\n",
              "                       min_impurity_decrease=0.0, min_impurity_split=None,\n",
              "                       min_samples_leaf=5, min_samples_split=2,\n",
              "                       min_weight_fraction_leaf=0.0, presort='deprecated',\n",
              "                       random_state=None, splitter='best')"
            ]
          },
          "metadata": {
            "tags": []
          },
          "execution_count": 17
        }
      ]
    },
    {
      "cell_type": "markdown",
      "metadata": {
        "id": "HWW8786oE9G_"
      },
      "source": [
        "### **Test Decision Tree**"
      ]
    },
    {
      "cell_type": "markdown",
      "metadata": {
        "id": "BGTwraXpWi5z"
      },
      "source": [
        "use tree_model.predict to get a prediction as to what breed the iris is based off the features."
      ]
    },
    {
      "cell_type": "markdown",
      "metadata": {
        "id": "UkR4GQkglJyt"
      },
      "source": [
        "Created a function that gives me the prediction of my model."
      ]
    },
    {
      "cell_type": "code",
      "metadata": {
        "id": "xU3Ex_RRlbb4"
      },
      "source": [
        "def Prediction(id):\n",
        "  pred = tree_model.predict([Features_Testing[id]])\n",
        "  pred = np.int(pred) \n",
        "  return I.target_names[pred]"
      ],
      "execution_count": 18,
      "outputs": []
    },
    {
      "cell_type": "markdown",
      "metadata": {
        "id": "6OayvISkW1Oj"
      },
      "source": [
        "A function that gives the actual breed of the iris"
      ]
    },
    {
      "cell_type": "code",
      "metadata": {
        "id": "La0gxpHtW1pH"
      },
      "source": [
        "def Actual(id):\n",
        "  actual = np.int(Breed_Testing[id])\n",
        "  return I.target_names[actual]"
      ],
      "execution_count": 19,
      "outputs": []
    },
    {
      "cell_type": "markdown",
      "metadata": {
        "id": "2Tj9lWjAW4Fv"
      },
      "source": [
        "Print the predicition and the actual to see how they compare."
      ]
    },
    {
      "cell_type": "code",
      "metadata": {
        "colab": {
          "base_uri": "https://localhost:8080/"
        },
        "id": "V7NKjRgIW4cl",
        "outputId": "52b624e5-4197-470c-f64b-7ff4c3bd67db"
      },
      "source": [
        "print(\"Prediction: \" + Prediction(0))\n",
        "print(\"Actual: \" + Actual(0))"
      ],
      "execution_count": 20,
      "outputs": [
        {
          "output_type": "stream",
          "text": [
            "Prediction: setosa\n",
            "Actual: setosa\n"
          ],
          "name": "stdout"
        }
      ]
    },
    {
      "cell_type": "markdown",
      "metadata": {
        "id": "hw53n7RlXV0H"
      },
      "source": [
        "Can repeat multiple times with diffrent rows and see how they compare. \n",
        "\n",
        "Added print(\" \") between each test for easer reading"
      ]
    },
    {
      "cell_type": "code",
      "metadata": {
        "colab": {
          "base_uri": "https://localhost:8080/"
        },
        "id": "r0JI5YVgX7xb",
        "outputId": "90772c89-9cae-4037-ca8e-94160a0d9c72"
      },
      "source": [
        "print(\"Prediction: \" + Prediction(1))\n",
        "print(\"Actual: \" + Actual(1))\n",
        "print(\" \")\n",
        "print(\"Prediction: \" + Prediction(2))\n",
        "print(\"Actual: \" + Actual(2))\n",
        "print(\" \")\n",
        "print(\"Prediction: \" + Prediction(3))\n",
        "print(\"Actual: \" + Actual(3))\n",
        "print(\" \")\n",
        "print(\"Prediction: \" + Prediction(4))\n",
        "print(\"Actual: \" + Actual(4))"
      ],
      "execution_count": 21,
      "outputs": [
        {
          "output_type": "stream",
          "text": [
            "Prediction: virginica\n",
            "Actual: virginica\n",
            " \n",
            "Prediction: setosa\n",
            "Actual: setosa\n",
            " \n",
            "Prediction: setosa\n",
            "Actual: setosa\n",
            " \n",
            "Prediction: virginica\n",
            "Actual: virginica\n"
          ],
          "name": "stdout"
        }
      ]
    },
    {
      "cell_type": "markdown",
      "metadata": {
        "id": "prnH-uFhFTwG"
      },
      "source": [
        "### **Display Test**"
      ]
    },
    {
      "cell_type": "markdown",
      "metadata": {
        "id": "PGRFou1vf328"
      },
      "source": [
        "Now lets actually see that the Decision tree looks like."
      ]
    },
    {
      "cell_type": "code",
      "metadata": {
        "id": "_2S_Af8aFbkZ"
      },
      "source": [
        "#Imports\n",
        "from sklearn import tree \n",
        "import graphviz \n",
        "\n",
        "#Data Structure\n",
        "dot_data = tree.export_graphviz(tree_model, out_file=None, feature_names=I.feature_names, class_names=I.target_names)\n",
        "graph = graphviz.Source(dot_data) "
      ],
      "execution_count": 22,
      "outputs": []
    },
    {
      "cell_type": "markdown",
      "metadata": {
        "id": "w6HodzysgjDg"
      },
      "source": [
        "This part renders and exports the decision tree as \"Iris_Decision_Tree.png\" so we can download it or view it."
      ]
    },
    {
      "cell_type": "code",
      "metadata": {
        "colab": {
          "base_uri": "https://localhost:8080/",
          "height": 35
        },
        "id": "AWRnORJYgja6",
        "outputId": "f1ab7dc2-7c38-4642-e57d-4f0169bdd7c5"
      },
      "source": [
        "graph \n",
        "graph.format = 'png' \n",
        "graph.filename = 'Iris_Decision_Tree'\n",
        "graph.view()"
      ],
      "execution_count": 23,
      "outputs": [
        {
          "output_type": "execute_result",
          "data": {
            "application/vnd.google.colaboratory.intrinsic+json": {
              "type": "string"
            },
            "text/plain": [
              "'Iris_Decision_Tree.png'"
            ]
          },
          "metadata": {
            "tags": []
          },
          "execution_count": 23
        }
      ]
    },
    {
      "cell_type": "markdown",
      "metadata": {
        "id": "M4gQFR5ehunE"
      },
      "source": [
        "Now lets print it to see how it turned out."
      ]
    },
    {
      "cell_type": "code",
      "metadata": {
        "colab": {
          "base_uri": "https://localhost:8080/",
          "height": 269
        },
        "id": "cb7DPS8ghvLj",
        "outputId": "a8865631-2839-4275-bb13-8e5db25ab39e"
      },
      "source": [
        "#Imports\n",
        "import matplotlib.pyplot as plt\n",
        "import matplotlib.image as img\n",
        "\n",
        "#Mapping and showing the image\n",
        "IMG = img.imread('Iris_Decision_Tree.png')\n",
        "plt.imshow(IMG)\n",
        "plt.show()"
      ],
      "execution_count": 24,
      "outputs": [
        {
          "output_type": "display_data",
          "data": {
            "image/png": "[encoded data removed]",
            "text/plain": [
              "<Figure size 432x288 with 1 Axes>"
            ]
          },
          "metadata": {
            "tags": [],
            "needs_background": "light"
          }
        }
      ]
    },
    {
      "cell_type": "markdown",
      "metadata": {
        "id": "dEiI-KpGFb45"
      },
      "source": [
        "### **Evaluate Quality**"
      ]
    },
    {
      "cell_type": "markdown",
      "metadata": {
        "id": "8cOSk10gijaQ"
      },
      "source": [
        "It is always important to evaluate how well your application is preforming. A good way to do this is by checking the Accuracy, Percision, Recall, and F1 score. \n",
        "\n",
        "*`Credit to Alex Shroyer for the idea and basic layout of the Metrics function.`*"
      ]
    },
    {
      "cell_type": "code",
      "metadata": {
        "id": "28bjilpZFhXd"
      },
      "source": [
        "def Metrics( model, features, labels, test_index ):\n",
        "    out = {}\n",
        "    out['TP'] = 0\n",
        "    out['FP'] = 0 \n",
        "    out['TN'] = 0\n",
        "    out['FN'] = 0\n",
        "    n = len(features)\n",
        "    for i in range(n):\n",
        "        prediction = np.int(model.predict([features[i]]))\n",
        "        if(prediction == labels[i]):\n",
        "            if(prediction == test_index):\n",
        "                out['TP'] += 1\n",
        "            else: \n",
        "                out['TN'] += 1\n",
        "        else:\n",
        "            if(prediction == test_index):\n",
        "                out['FP'] += 1\n",
        "            else:\n",
        "                out['FN'] += 1\n",
        "    out['Accuracy'] = (out['TP'] + out['TN']) / np.double(n)\n",
        "    out['Precision'] = out['TP'] / (out['TP'] + out['FP'])\n",
        "    out['Recall'] = out['TP'] / (out['TP'] + out['FN'])\n",
        "    p = out['Precision'] \n",
        "    r = out['Recall']\n",
        "    out['F1'] = 2*p*r / (p + r)\n",
        "    return out\n"
      ],
      "execution_count": 25,
      "outputs": []
    },
    {
      "cell_type": "markdown",
      "metadata": {
        "id": "LEXBy8IdlzGB"
      },
      "source": [
        "When reading the results it is important to remember:\n",
        "\n",
        "F1 score, Accuracy, Precisison, and recall should all be close to 1, the closer the better your model is.\n"
      ]
    },
    {
      "cell_type": "code",
      "metadata": {
        "colab": {
          "base_uri": "https://localhost:8080/"
        },
        "id": "agJZzX3Glzna",
        "outputId": "8147ce24-90f5-4131-f50b-1c17ba0b96ed"
      },
      "source": [
        "Results = Metrics(tree_model, Features_Testing, Breed_Testing, 0)\n",
        "Results"
      ],
      "execution_count": 26,
      "outputs": [
        {
          "output_type": "execute_result",
          "data": {
            "text/plain": [
              "{'Accuracy': 0.9333333333333333,\n",
              " 'F1': 0.9090909090909091,\n",
              " 'FN': 2,\n",
              " 'FP': 0,\n",
              " 'Precision': 1.0,\n",
              " 'Recall': 0.8333333333333334,\n",
              " 'TN': 18,\n",
              " 'TP': 10}"
            ]
          },
          "metadata": {
            "tags": []
          },
          "execution_count": 26
        }
      ]
    },
    {
      "cell_type": "markdown",
      "metadata": {
        "id": "Qb4Ymo9TuB_C"
      },
      "source": [
        "##SVM_Classifier\n"
      ]
    },
    {
      "cell_type": "markdown",
      "metadata": {
        "id": "Nn-RtRi6uG36"
      },
      "source": [
        "Now repeate the steps above except using a svm classifer to see how diffrent classifiers preform diffrently. Code idea from Tyler Balson."
      ]
    },
    {
      "cell_type": "markdown",
      "metadata": {
        "id": "Kc0C81HruyOT"
      },
      "source": [
        "### Training SVM"
      ]
    },
    {
      "cell_type": "code",
      "metadata": {
        "id": "3v5iJQUluGVk"
      },
      "source": [
        "from sklearn import datasets, svm\n",
        "from sklearn.svm import SVC\n",
        "from sklearn.model_selection import train_test_split\n",
        "from sklearn.pipeline import make_pipeline\n",
        "from sklearn.preprocessing import StandardScaler\n",
        "import numpy as np\n",
        "\n",
        "iris_data = datasets.load_iris()\n",
        "X = iris_data.data\n",
        "y = iris_data.target\n",
        "class_names = iris_data.target_names\n",
        "X_train, X_test, y_train, y_test = train_test_split(X, y)\n",
        "\n",
        "svm_classifier = make_pipeline(StandardScaler(), SVC(gamma='auto'))\n",
        "my_model = svm_classifier.fit(X_train, y_train)"
      ],
      "execution_count": 27,
      "outputs": []
    },
    {
      "cell_type": "markdown",
      "metadata": {
        "id": "7IzyuaVguxkF"
      },
      "source": [
        "###Pickle model"
      ]
    },
    {
      "cell_type": "code",
      "metadata": {
        "colab": {
          "base_uri": "https://localhost:8080/"
        },
        "id": "xB5hcuvKu_Dm",
        "outputId": "0ab2688e-74c9-43a1-91cb-1257bb21521c"
      },
      "source": [
        "from joblib import dump, load \n",
        "dump(my_model, 'Iris_model.pkl')"
      ],
      "execution_count": 28,
      "outputs": [
        {
          "output_type": "execute_result",
          "data": {
            "text/plain": [
              "['Iris_model.pkl']"
            ]
          },
          "metadata": {
            "tags": []
          },
          "execution_count": 28
        }
      ]
    },
    {
      "cell_type": "markdown",
      "metadata": {
        "id": "br-Jz6mxvLUk"
      },
      "source": [
        "### Test SVM"
      ]
    },
    {
      "cell_type": "code",
      "metadata": {
        "id": "rK4_ySosvSMG"
      },
      "source": [
        "def pred(array):\n",
        "    prediction = my_model.predict(array)\n",
        "    X = class_names[prediction]\n",
        "    return X"
      ],
      "execution_count": 41,
      "outputs": []
    },
    {
      "cell_type": "code",
      "metadata": {
        "colab": {
          "base_uri": "https://localhost:8080/"
        },
        "id": "alzNRInpvbO4",
        "outputId": "5a1b962c-0f3d-4282-a753-90a0cea9749d"
      },
      "source": [
        "arr = np.array([[5], [5], [5], [5]])\n",
        "test = arr.transpose()\n",
        "arr.shape\n",
        "print(test.shape)"
      ],
      "execution_count": 56,
      "outputs": [
        {
          "output_type": "stream",
          "text": [
            "(1, 4)\n"
          ],
          "name": "stdout"
        }
      ]
    },
    {
      "cell_type": "code",
      "metadata": {
        "colab": {
          "base_uri": "https://localhost:8080/"
        },
        "id": "XetLrDOjwbFu",
        "outputId": "5d3fe61b-f249-4944-d398-0a6179cb5bb2"
      },
      "source": [
        "pred(test)"
      ],
      "execution_count": 63,
      "outputs": [
        {
          "output_type": "execute_result",
          "data": {
            "text/plain": [
              "array(['virginica'], dtype='<U10')"
            ]
          },
          "metadata": {
            "tags": []
          },
          "execution_count": 63
        }
      ]
    },
    {
      "cell_type": "code",
      "metadata": {
        "colab": {
          "base_uri": "https://localhost:8080/"
        },
        "id": "fdCDAUBNw0FJ",
        "outputId": "816faf3d-3388-4467-a25f-75ba3182f317"
      },
      "source": [
        "A = np.array([[6], [3], [1.86], [1.6]])\n",
        "X = A.transpose()\n",
        "A.shape\n",
        "print(X.shape)\n",
        "pred(X)"
      ],
      "execution_count": 64,
      "outputs": [
        {
          "output_type": "stream",
          "text": [
            "(1, 4)\n"
          ],
          "name": "stdout"
        },
        {
          "output_type": "execute_result",
          "data": {
            "text/plain": [
              "array(['versicolor'], dtype='<U10')"
            ]
          },
          "metadata": {
            "tags": []
          },
          "execution_count": 64
        }
      ]
    },
    {
      "cell_type": "markdown",
      "metadata": {
        "id": "lYeZcKVXY2g7"
      },
      "source": [
        "## **Conclusion**"
      ]
    },
    {
      "cell_type": "markdown",
      "metadata": {
        "id": "f6RSfSNX-4xv"
      },
      "source": [
        "This is a good way to predict what breed of a iris you have. A plus side of this predicition method is that with the png of the decision tree you can print it off and classify iris in a real world setting. If you play around with your max_depth and min_sample_leafs you can increase your accuracy making it so you have an almost perfect system."
      ]
    },
    {
      "cell_type": "markdown",
      "metadata": {
        "id": "iMmJZmZHY6jT"
      },
      "source": [
        "## **Work Cited**"
      ]
    },
    {
      "cell_type": "markdown",
      "metadata": {
        "id": "8Od2tvlLZAU2"
      },
      "source": [
        "Idea and basic layout for Metrics function from Alex Shroyer\n",
        "\n",
        "Dataset from sklearn database and UCI Machine Learning on Kaggle\n",
        "\n",
        "Data structure layout from Graphviz website"
      ]
    },
    {
      "cell_type": "markdown",
      "metadata": {
        "id": "cLroewu8hKMG"
      },
      "source": [
        ""
      ]
    }
  ]
}